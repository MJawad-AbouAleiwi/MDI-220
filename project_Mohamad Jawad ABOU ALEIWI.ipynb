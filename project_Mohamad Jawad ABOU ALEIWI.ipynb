{
  "cells": [
    {
      "cell_type": "markdown",
      "metadata": {
        "id": "528c4397"
      },
      "source": [
        "# MDI220\n",
        "# Statistics\n",
        "\n",
        "# Project"
      ],
      "id": "528c4397"
    },
    {
      "cell_type": "markdown",
      "metadata": {
        "id": "9f9f9769"
      },
      "source": [
        "This is the project for the course on statistics.\n",
        "\n",
        "You must fill this notebook and upload it on eCampus, **including figures**. Please make sure that it runs **without erros**.\n",
        "\n",
        "You can work in teams but the final notebook, including text and code, must be **yours**. Any copy-pasting across students is strictly forbidden.\n",
        "\n",
        "Please provide **concise answers** and **concise code**, with comments when appropriate."
      ],
      "id": "9f9f9769"
    },
    {
      "cell_type": "markdown",
      "metadata": {
        "id": "ca534555"
      },
      "source": [
        "## Your name:"
      ],
      "id": "ca534555"
    },
    {
      "cell_type": "markdown",
      "source": [
        "Mohamad Jawad ABOU ALEIWI"
      ],
      "metadata": {
        "id": "eIYWObPtkT8q"
      },
      "id": "eIYWObPtkT8q"
    },
    {
      "cell_type": "markdown",
      "metadata": {
        "id": "986d36a8"
      },
      "source": [
        "## Imports"
      ],
      "id": "986d36a8"
    },
    {
      "cell_type": "markdown",
      "metadata": {
        "id": "f30a6df8"
      },
      "source": [
        "Please do **not** import any other library."
      ],
      "id": "f30a6df8"
    },
    {
      "cell_type": "code",
      "execution_count": 1,
      "metadata": {
        "id": "d453a573"
      },
      "outputs": [],
      "source": [
        "import numpy as np\n",
        "import pandas as pd\n",
        "import matplotlib.pyplot as plt"
      ],
      "id": "d453a573"
    },
    {
      "cell_type": "code",
      "execution_count": 2,
      "metadata": {
        "id": "18e10613"
      },
      "outputs": [],
      "source": [
        "from scipy.stats import norm, chi2, gaussian_kde"
      ],
      "id": "18e10613"
    },
    {
      "cell_type": "code",
      "execution_count": 3,
      "metadata": {
        "id": "2e543f41"
      },
      "outputs": [],
      "source": [
        "import seaborn as sns"
      ],
      "id": "2e543f41"
    },
    {
      "cell_type": "markdown",
      "metadata": {
        "id": "150efe52"
      },
      "source": [
        "## Data"
      ],
      "id": "150efe52"
    },
    {
      "cell_type": "markdown",
      "metadata": {
        "id": "a447bd21"
      },
      "source": [
        "We consider the **daily electric power consumption** (in MW) in France in the period 2013-2023. The dataset is available on **eCampus**.\n",
        "\n",
        "Detailed information on this dataset is available [here](https://www.data.gouv.fr/fr/datasets/consommation-quotidienne-brute-regionale/)."
      ],
      "id": "a447bd21"
    },
    {
      "cell_type": "code",
      "execution_count": null,
      "metadata": {
        "id": "a5379d2c"
      },
      "outputs": [],
      "source": [
        "# do not modify this cell\n",
        "filename = 'power_consumption.csv'\n",
        "df = pd.read_csv(filename)"
      ],
      "id": "a5379d2c"
    },
    {
      "cell_type": "code",
      "execution_count": 5,
      "metadata": {
        "id": "c67ea70e",
        "colab": {
          "base_uri": "https://localhost:8080/",
          "height": 206
        },
        "outputId": "98efe349-2e30-49cd-b50c-646059085ddf"
      },
      "outputs": [
        {
          "output_type": "execute_result",
          "data": {
            "text/plain": [
              "                 region        date  consumption\n",
              "0  Auvergne-Rhône-Alpes  2013-01-01         7560\n",
              "1  Auvergne-Rhône-Alpes  2013-01-02         8700\n",
              "2  Auvergne-Rhône-Alpes  2013-01-03         9367\n",
              "3  Auvergne-Rhône-Alpes  2013-01-04         9133\n",
              "4  Auvergne-Rhône-Alpes  2013-01-05         8283"
            ],
            "text/html": [
              "\n",
              "  <div id=\"df-805c2068-8060-4f85-b5be-c27cb4515ff7\" class=\"colab-df-container\">\n",
              "    <div>\n",
              "<style scoped>\n",
              "    .dataframe tbody tr th:only-of-type {\n",
              "        vertical-align: middle;\n",
              "    }\n",
              "\n",
              "    .dataframe tbody tr th {\n",
              "        vertical-align: top;\n",
              "    }\n",
              "\n",
              "    .dataframe thead th {\n",
              "        text-align: right;\n",
              "    }\n",
              "</style>\n",
              "<table border=\"1\" class=\"dataframe\">\n",
              "  <thead>\n",
              "    <tr style=\"text-align: right;\">\n",
              "      <th></th>\n",
              "      <th>region</th>\n",
              "      <th>date</th>\n",
              "      <th>consumption</th>\n",
              "    </tr>\n",
              "  </thead>\n",
              "  <tbody>\n",
              "    <tr>\n",
              "      <th>0</th>\n",
              "      <td>Auvergne-Rhône-Alpes</td>\n",
              "      <td>2013-01-01</td>\n",
              "      <td>7560</td>\n",
              "    </tr>\n",
              "    <tr>\n",
              "      <th>1</th>\n",
              "      <td>Auvergne-Rhône-Alpes</td>\n",
              "      <td>2013-01-02</td>\n",
              "      <td>8700</td>\n",
              "    </tr>\n",
              "    <tr>\n",
              "      <th>2</th>\n",
              "      <td>Auvergne-Rhône-Alpes</td>\n",
              "      <td>2013-01-03</td>\n",
              "      <td>9367</td>\n",
              "    </tr>\n",
              "    <tr>\n",
              "      <th>3</th>\n",
              "      <td>Auvergne-Rhône-Alpes</td>\n",
              "      <td>2013-01-04</td>\n",
              "      <td>9133</td>\n",
              "    </tr>\n",
              "    <tr>\n",
              "      <th>4</th>\n",
              "      <td>Auvergne-Rhône-Alpes</td>\n",
              "      <td>2013-01-05</td>\n",
              "      <td>8283</td>\n",
              "    </tr>\n",
              "  </tbody>\n",
              "</table>\n",
              "</div>\n",
              "    <div class=\"colab-df-buttons\">\n",
              "\n",
              "  <div class=\"colab-df-container\">\n",
              "    <button class=\"colab-df-convert\" onclick=\"convertToInteractive('df-805c2068-8060-4f85-b5be-c27cb4515ff7')\"\n",
              "            title=\"Convert this dataframe to an interactive table.\"\n",
              "            style=\"display:none;\">\n",
              "\n",
              "  <svg xmlns=\"http://www.w3.org/2000/svg\" height=\"24px\" viewBox=\"0 -960 960 960\">\n",
              "    <path d=\"M120-120v-720h720v720H120Zm60-500h600v-160H180v160Zm220 220h160v-160H400v160Zm0 220h160v-160H400v160ZM180-400h160v-160H180v160Zm440 0h160v-160H620v160ZM180-180h160v-160H180v160Zm440 0h160v-160H620v160Z\"/>\n",
              "  </svg>\n",
              "    </button>\n",
              "\n",
              "  <style>\n",
              "    .colab-df-container {\n",
              "      display:flex;\n",
              "      gap: 12px;\n",
              "    }\n",
              "\n",
              "    .colab-df-convert {\n",
              "      background-color: #E8F0FE;\n",
              "      border: none;\n",
              "      border-radius: 50%;\n",
              "      cursor: pointer;\n",
              "      display: none;\n",
              "      fill: #1967D2;\n",
              "      height: 32px;\n",
              "      padding: 0 0 0 0;\n",
              "      width: 32px;\n",
              "    }\n",
              "\n",
              "    .colab-df-convert:hover {\n",
              "      background-color: #E2EBFA;\n",
              "      box-shadow: 0px 1px 2px rgba(60, 64, 67, 0.3), 0px 1px 3px 1px rgba(60, 64, 67, 0.15);\n",
              "      fill: #174EA6;\n",
              "    }\n",
              "\n",
              "    .colab-df-buttons div {\n",
              "      margin-bottom: 4px;\n",
              "    }\n",
              "\n",
              "    [theme=dark] .colab-df-convert {\n",
              "      background-color: #3B4455;\n",
              "      fill: #D2E3FC;\n",
              "    }\n",
              "\n",
              "    [theme=dark] .colab-df-convert:hover {\n",
              "      background-color: #434B5C;\n",
              "      box-shadow: 0px 1px 3px 1px rgba(0, 0, 0, 0.15);\n",
              "      filter: drop-shadow(0px 1px 2px rgba(0, 0, 0, 0.3));\n",
              "      fill: #FFFFFF;\n",
              "    }\n",
              "  </style>\n",
              "\n",
              "    <script>\n",
              "      const buttonEl =\n",
              "        document.querySelector('#df-805c2068-8060-4f85-b5be-c27cb4515ff7 button.colab-df-convert');\n",
              "      buttonEl.style.display =\n",
              "        google.colab.kernel.accessAllowed ? 'block' : 'none';\n",
              "\n",
              "      async function convertToInteractive(key) {\n",
              "        const element = document.querySelector('#df-805c2068-8060-4f85-b5be-c27cb4515ff7');\n",
              "        const dataTable =\n",
              "          await google.colab.kernel.invokeFunction('convertToInteractive',\n",
              "                                                    [key], {});\n",
              "        if (!dataTable) return;\n",
              "\n",
              "        const docLinkHtml = 'Like what you see? Visit the ' +\n",
              "          '<a target=\"_blank\" href=https://colab.research.google.com/notebooks/data_table.ipynb>data table notebook</a>'\n",
              "          + ' to learn more about interactive tables.';\n",
              "        element.innerHTML = '';\n",
              "        dataTable['output_type'] = 'display_data';\n",
              "        await google.colab.output.renderOutput(dataTable, element);\n",
              "        const docLink = document.createElement('div');\n",
              "        docLink.innerHTML = docLinkHtml;\n",
              "        element.appendChild(docLink);\n",
              "      }\n",
              "    </script>\n",
              "  </div>\n",
              "\n",
              "\n",
              "<div id=\"df-19ac351a-205b-4a3a-86d9-b5737daf7806\">\n",
              "  <button class=\"colab-df-quickchart\" onclick=\"quickchart('df-19ac351a-205b-4a3a-86d9-b5737daf7806')\"\n",
              "            title=\"Suggest charts.\"\n",
              "            style=\"display:none;\">\n",
              "\n",
              "<svg xmlns=\"http://www.w3.org/2000/svg\" height=\"24px\"viewBox=\"0 0 24 24\"\n",
              "     width=\"24px\">\n",
              "    <g>\n",
              "        <path d=\"M19 3H5c-1.1 0-2 .9-2 2v14c0 1.1.9 2 2 2h14c1.1 0 2-.9 2-2V5c0-1.1-.9-2-2-2zM9 17H7v-7h2v7zm4 0h-2V7h2v10zm4 0h-2v-4h2v4z\"/>\n",
              "    </g>\n",
              "</svg>\n",
              "  </button>\n",
              "\n",
              "<style>\n",
              "  .colab-df-quickchart {\n",
              "      --bg-color: #E8F0FE;\n",
              "      --fill-color: #1967D2;\n",
              "      --hover-bg-color: #E2EBFA;\n",
              "      --hover-fill-color: #174EA6;\n",
              "      --disabled-fill-color: #AAA;\n",
              "      --disabled-bg-color: #DDD;\n",
              "  }\n",
              "\n",
              "  [theme=dark] .colab-df-quickchart {\n",
              "      --bg-color: #3B4455;\n",
              "      --fill-color: #D2E3FC;\n",
              "      --hover-bg-color: #434B5C;\n",
              "      --hover-fill-color: #FFFFFF;\n",
              "      --disabled-bg-color: #3B4455;\n",
              "      --disabled-fill-color: #666;\n",
              "  }\n",
              "\n",
              "  .colab-df-quickchart {\n",
              "    background-color: var(--bg-color);\n",
              "    border: none;\n",
              "    border-radius: 50%;\n",
              "    cursor: pointer;\n",
              "    display: none;\n",
              "    fill: var(--fill-color);\n",
              "    height: 32px;\n",
              "    padding: 0;\n",
              "    width: 32px;\n",
              "  }\n",
              "\n",
              "  .colab-df-quickchart:hover {\n",
              "    background-color: var(--hover-bg-color);\n",
              "    box-shadow: 0 1px 2px rgba(60, 64, 67, 0.3), 0 1px 3px 1px rgba(60, 64, 67, 0.15);\n",
              "    fill: var(--button-hover-fill-color);\n",
              "  }\n",
              "\n",
              "  .colab-df-quickchart-complete:disabled,\n",
              "  .colab-df-quickchart-complete:disabled:hover {\n",
              "    background-color: var(--disabled-bg-color);\n",
              "    fill: var(--disabled-fill-color);\n",
              "    box-shadow: none;\n",
              "  }\n",
              "\n",
              "  .colab-df-spinner {\n",
              "    border: 2px solid var(--fill-color);\n",
              "    border-color: transparent;\n",
              "    border-bottom-color: var(--fill-color);\n",
              "    animation:\n",
              "      spin 1s steps(1) infinite;\n",
              "  }\n",
              "\n",
              "  @keyframes spin {\n",
              "    0% {\n",
              "      border-color: transparent;\n",
              "      border-bottom-color: var(--fill-color);\n",
              "      border-left-color: var(--fill-color);\n",
              "    }\n",
              "    20% {\n",
              "      border-color: transparent;\n",
              "      border-left-color: var(--fill-color);\n",
              "      border-top-color: var(--fill-color);\n",
              "    }\n",
              "    30% {\n",
              "      border-color: transparent;\n",
              "      border-left-color: var(--fill-color);\n",
              "      border-top-color: var(--fill-color);\n",
              "      border-right-color: var(--fill-color);\n",
              "    }\n",
              "    40% {\n",
              "      border-color: transparent;\n",
              "      border-right-color: var(--fill-color);\n",
              "      border-top-color: var(--fill-color);\n",
              "    }\n",
              "    60% {\n",
              "      border-color: transparent;\n",
              "      border-right-color: var(--fill-color);\n",
              "    }\n",
              "    80% {\n",
              "      border-color: transparent;\n",
              "      border-right-color: var(--fill-color);\n",
              "      border-bottom-color: var(--fill-color);\n",
              "    }\n",
              "    90% {\n",
              "      border-color: transparent;\n",
              "      border-bottom-color: var(--fill-color);\n",
              "    }\n",
              "  }\n",
              "</style>\n",
              "\n",
              "  <script>\n",
              "    async function quickchart(key) {\n",
              "      const quickchartButtonEl =\n",
              "        document.querySelector('#' + key + ' button');\n",
              "      quickchartButtonEl.disabled = true;  // To prevent multiple clicks.\n",
              "      quickchartButtonEl.classList.add('colab-df-spinner');\n",
              "      try {\n",
              "        const charts = await google.colab.kernel.invokeFunction(\n",
              "            'suggestCharts', [key], {});\n",
              "      } catch (error) {\n",
              "        console.error('Error during call to suggestCharts:', error);\n",
              "      }\n",
              "      quickchartButtonEl.classList.remove('colab-df-spinner');\n",
              "      quickchartButtonEl.classList.add('colab-df-quickchart-complete');\n",
              "    }\n",
              "    (() => {\n",
              "      let quickchartButtonEl =\n",
              "        document.querySelector('#df-19ac351a-205b-4a3a-86d9-b5737daf7806 button');\n",
              "      quickchartButtonEl.style.display =\n",
              "        google.colab.kernel.accessAllowed ? 'block' : 'none';\n",
              "    })();\n",
              "  </script>\n",
              "</div>\n",
              "    </div>\n",
              "  </div>\n"
            ]
          },
          "metadata": {},
          "execution_count": 5
        }
      ],
      "source": [
        "df.head()"
      ],
      "id": "c67ea70e"
    },
    {
      "cell_type": "code",
      "execution_count": 6,
      "metadata": {
        "id": "9e299cd9"
      },
      "outputs": [],
      "source": [
        "regions = list(df.region.unique())"
      ],
      "id": "9e299cd9"
    },
    {
      "cell_type": "code",
      "execution_count": 7,
      "metadata": {
        "id": "907ac06f",
        "colab": {
          "base_uri": "https://localhost:8080/"
        },
        "outputId": "51383748-100a-4d4f-eeda-77fe2ca46213"
      },
      "outputs": [
        {
          "output_type": "execute_result",
          "data": {
            "text/plain": [
              "['Auvergne-Rhône-Alpes',\n",
              " 'Bourgogne-Franche-Comté',\n",
              " 'Bretagne',\n",
              " 'Centre-Val de Loire',\n",
              " 'Grand Est',\n",
              " 'Hauts-de-France',\n",
              " 'Normandie',\n",
              " 'Nouvelle-Aquitaine',\n",
              " 'Occitanie',\n",
              " 'Pays de la Loire',\n",
              " \"Provence-Alpes-Côte d'Azur\",\n",
              " 'Île-de-France']"
            ]
          },
          "metadata": {},
          "execution_count": 7
        }
      ],
      "source": [
        "regions"
      ],
      "id": "907ac06f"
    },
    {
      "cell_type": "code",
      "execution_count": 8,
      "metadata": {
        "id": "2e2704da",
        "colab": {
          "base_uri": "https://localhost:8080/",
          "height": 457
        },
        "outputId": "65fd1614-9751-4329-8d87-43b2d20c6e08"
      },
      "outputs": [
        {
          "output_type": "execute_result",
          "data": {
            "text/plain": [
              "                            consumption\n",
              "region                                 \n",
              "Auvergne-Rhône-Alpes               7495\n",
              "Bourgogne-Franche-Comté            2416\n",
              "Bretagne                           2546\n",
              "Centre-Val de Loire                2139\n",
              "Grand Est                          5155\n",
              "Hauts-de-France                    5726\n",
              "Normandie                          3168\n",
              "Nouvelle-Aquitaine                 4925\n",
              "Occitanie                          4266\n",
              "Pays de la Loire                   3077\n",
              "Provence-Alpes-Côte d'Azur         4656\n",
              "Île-de-France                      8008"
            ],
            "text/html": [
              "\n",
              "  <div id=\"df-d312988d-18c8-4ac8-80ec-2bfd3f2bb749\" class=\"colab-df-container\">\n",
              "    <div>\n",
              "<style scoped>\n",
              "    .dataframe tbody tr th:only-of-type {\n",
              "        vertical-align: middle;\n",
              "    }\n",
              "\n",
              "    .dataframe tbody tr th {\n",
              "        vertical-align: top;\n",
              "    }\n",
              "\n",
              "    .dataframe thead th {\n",
              "        text-align: right;\n",
              "    }\n",
              "</style>\n",
              "<table border=\"1\" class=\"dataframe\">\n",
              "  <thead>\n",
              "    <tr style=\"text-align: right;\">\n",
              "      <th></th>\n",
              "      <th>consumption</th>\n",
              "    </tr>\n",
              "    <tr>\n",
              "      <th>region</th>\n",
              "      <th></th>\n",
              "    </tr>\n",
              "  </thead>\n",
              "  <tbody>\n",
              "    <tr>\n",
              "      <th>Auvergne-Rhône-Alpes</th>\n",
              "      <td>7495</td>\n",
              "    </tr>\n",
              "    <tr>\n",
              "      <th>Bourgogne-Franche-Comté</th>\n",
              "      <td>2416</td>\n",
              "    </tr>\n",
              "    <tr>\n",
              "      <th>Bretagne</th>\n",
              "      <td>2546</td>\n",
              "    </tr>\n",
              "    <tr>\n",
              "      <th>Centre-Val de Loire</th>\n",
              "      <td>2139</td>\n",
              "    </tr>\n",
              "    <tr>\n",
              "      <th>Grand Est</th>\n",
              "      <td>5155</td>\n",
              "    </tr>\n",
              "    <tr>\n",
              "      <th>Hauts-de-France</th>\n",
              "      <td>5726</td>\n",
              "    </tr>\n",
              "    <tr>\n",
              "      <th>Normandie</th>\n",
              "      <td>3168</td>\n",
              "    </tr>\n",
              "    <tr>\n",
              "      <th>Nouvelle-Aquitaine</th>\n",
              "      <td>4925</td>\n",
              "    </tr>\n",
              "    <tr>\n",
              "      <th>Occitanie</th>\n",
              "      <td>4266</td>\n",
              "    </tr>\n",
              "    <tr>\n",
              "      <th>Pays de la Loire</th>\n",
              "      <td>3077</td>\n",
              "    </tr>\n",
              "    <tr>\n",
              "      <th>Provence-Alpes-Côte d'Azur</th>\n",
              "      <td>4656</td>\n",
              "    </tr>\n",
              "    <tr>\n",
              "      <th>Île-de-France</th>\n",
              "      <td>8008</td>\n",
              "    </tr>\n",
              "  </tbody>\n",
              "</table>\n",
              "</div>\n",
              "    <div class=\"colab-df-buttons\">\n",
              "\n",
              "  <div class=\"colab-df-container\">\n",
              "    <button class=\"colab-df-convert\" onclick=\"convertToInteractive('df-d312988d-18c8-4ac8-80ec-2bfd3f2bb749')\"\n",
              "            title=\"Convert this dataframe to an interactive table.\"\n",
              "            style=\"display:none;\">\n",
              "\n",
              "  <svg xmlns=\"http://www.w3.org/2000/svg\" height=\"24px\" viewBox=\"0 -960 960 960\">\n",
              "    <path d=\"M120-120v-720h720v720H120Zm60-500h600v-160H180v160Zm220 220h160v-160H400v160Zm0 220h160v-160H400v160ZM180-400h160v-160H180v160Zm440 0h160v-160H620v160ZM180-180h160v-160H180v160Zm440 0h160v-160H620v160Z\"/>\n",
              "  </svg>\n",
              "    </button>\n",
              "\n",
              "  <style>\n",
              "    .colab-df-container {\n",
              "      display:flex;\n",
              "      gap: 12px;\n",
              "    }\n",
              "\n",
              "    .colab-df-convert {\n",
              "      background-color: #E8F0FE;\n",
              "      border: none;\n",
              "      border-radius: 50%;\n",
              "      cursor: pointer;\n",
              "      display: none;\n",
              "      fill: #1967D2;\n",
              "      height: 32px;\n",
              "      padding: 0 0 0 0;\n",
              "      width: 32px;\n",
              "    }\n",
              "\n",
              "    .colab-df-convert:hover {\n",
              "      background-color: #E2EBFA;\n",
              "      box-shadow: 0px 1px 2px rgba(60, 64, 67, 0.3), 0px 1px 3px 1px rgba(60, 64, 67, 0.15);\n",
              "      fill: #174EA6;\n",
              "    }\n",
              "\n",
              "    .colab-df-buttons div {\n",
              "      margin-bottom: 4px;\n",
              "    }\n",
              "\n",
              "    [theme=dark] .colab-df-convert {\n",
              "      background-color: #3B4455;\n",
              "      fill: #D2E3FC;\n",
              "    }\n",
              "\n",
              "    [theme=dark] .colab-df-convert:hover {\n",
              "      background-color: #434B5C;\n",
              "      box-shadow: 0px 1px 3px 1px rgba(0, 0, 0, 0.15);\n",
              "      filter: drop-shadow(0px 1px 2px rgba(0, 0, 0, 0.3));\n",
              "      fill: #FFFFFF;\n",
              "    }\n",
              "  </style>\n",
              "\n",
              "    <script>\n",
              "      const buttonEl =\n",
              "        document.querySelector('#df-d312988d-18c8-4ac8-80ec-2bfd3f2bb749 button.colab-df-convert');\n",
              "      buttonEl.style.display =\n",
              "        google.colab.kernel.accessAllowed ? 'block' : 'none';\n",
              "\n",
              "      async function convertToInteractive(key) {\n",
              "        const element = document.querySelector('#df-d312988d-18c8-4ac8-80ec-2bfd3f2bb749');\n",
              "        const dataTable =\n",
              "          await google.colab.kernel.invokeFunction('convertToInteractive',\n",
              "                                                    [key], {});\n",
              "        if (!dataTable) return;\n",
              "\n",
              "        const docLinkHtml = 'Like what you see? Visit the ' +\n",
              "          '<a target=\"_blank\" href=https://colab.research.google.com/notebooks/data_table.ipynb>data table notebook</a>'\n",
              "          + ' to learn more about interactive tables.';\n",
              "        element.innerHTML = '';\n",
              "        dataTable['output_type'] = 'display_data';\n",
              "        await google.colab.output.renderOutput(dataTable, element);\n",
              "        const docLink = document.createElement('div');\n",
              "        docLink.innerHTML = docLinkHtml;\n",
              "        element.appendChild(docLink);\n",
              "      }\n",
              "    </script>\n",
              "  </div>\n",
              "\n",
              "\n",
              "<div id=\"df-9548fac4-cfc2-4155-825d-b99914f156a6\">\n",
              "  <button class=\"colab-df-quickchart\" onclick=\"quickchart('df-9548fac4-cfc2-4155-825d-b99914f156a6')\"\n",
              "            title=\"Suggest charts.\"\n",
              "            style=\"display:none;\">\n",
              "\n",
              "<svg xmlns=\"http://www.w3.org/2000/svg\" height=\"24px\"viewBox=\"0 0 24 24\"\n",
              "     width=\"24px\">\n",
              "    <g>\n",
              "        <path d=\"M19 3H5c-1.1 0-2 .9-2 2v14c0 1.1.9 2 2 2h14c1.1 0 2-.9 2-2V5c0-1.1-.9-2-2-2zM9 17H7v-7h2v7zm4 0h-2V7h2v10zm4 0h-2v-4h2v4z\"/>\n",
              "    </g>\n",
              "</svg>\n",
              "  </button>\n",
              "\n",
              "<style>\n",
              "  .colab-df-quickchart {\n",
              "      --bg-color: #E8F0FE;\n",
              "      --fill-color: #1967D2;\n",
              "      --hover-bg-color: #E2EBFA;\n",
              "      --hover-fill-color: #174EA6;\n",
              "      --disabled-fill-color: #AAA;\n",
              "      --disabled-bg-color: #DDD;\n",
              "  }\n",
              "\n",
              "  [theme=dark] .colab-df-quickchart {\n",
              "      --bg-color: #3B4455;\n",
              "      --fill-color: #D2E3FC;\n",
              "      --hover-bg-color: #434B5C;\n",
              "      --hover-fill-color: #FFFFFF;\n",
              "      --disabled-bg-color: #3B4455;\n",
              "      --disabled-fill-color: #666;\n",
              "  }\n",
              "\n",
              "  .colab-df-quickchart {\n",
              "    background-color: var(--bg-color);\n",
              "    border: none;\n",
              "    border-radius: 50%;\n",
              "    cursor: pointer;\n",
              "    display: none;\n",
              "    fill: var(--fill-color);\n",
              "    height: 32px;\n",
              "    padding: 0;\n",
              "    width: 32px;\n",
              "  }\n",
              "\n",
              "  .colab-df-quickchart:hover {\n",
              "    background-color: var(--hover-bg-color);\n",
              "    box-shadow: 0 1px 2px rgba(60, 64, 67, 0.3), 0 1px 3px 1px rgba(60, 64, 67, 0.15);\n",
              "    fill: var(--button-hover-fill-color);\n",
              "  }\n",
              "\n",
              "  .colab-df-quickchart-complete:disabled,\n",
              "  .colab-df-quickchart-complete:disabled:hover {\n",
              "    background-color: var(--disabled-bg-color);\n",
              "    fill: var(--disabled-fill-color);\n",
              "    box-shadow: none;\n",
              "  }\n",
              "\n",
              "  .colab-df-spinner {\n",
              "    border: 2px solid var(--fill-color);\n",
              "    border-color: transparent;\n",
              "    border-bottom-color: var(--fill-color);\n",
              "    animation:\n",
              "      spin 1s steps(1) infinite;\n",
              "  }\n",
              "\n",
              "  @keyframes spin {\n",
              "    0% {\n",
              "      border-color: transparent;\n",
              "      border-bottom-color: var(--fill-color);\n",
              "      border-left-color: var(--fill-color);\n",
              "    }\n",
              "    20% {\n",
              "      border-color: transparent;\n",
              "      border-left-color: var(--fill-color);\n",
              "      border-top-color: var(--fill-color);\n",
              "    }\n",
              "    30% {\n",
              "      border-color: transparent;\n",
              "      border-left-color: var(--fill-color);\n",
              "      border-top-color: var(--fill-color);\n",
              "      border-right-color: var(--fill-color);\n",
              "    }\n",
              "    40% {\n",
              "      border-color: transparent;\n",
              "      border-right-color: var(--fill-color);\n",
              "      border-top-color: var(--fill-color);\n",
              "    }\n",
              "    60% {\n",
              "      border-color: transparent;\n",
              "      border-right-color: var(--fill-color);\n",
              "    }\n",
              "    80% {\n",
              "      border-color: transparent;\n",
              "      border-right-color: var(--fill-color);\n",
              "      border-bottom-color: var(--fill-color);\n",
              "    }\n",
              "    90% {\n",
              "      border-color: transparent;\n",
              "      border-bottom-color: var(--fill-color);\n",
              "    }\n",
              "  }\n",
              "</style>\n",
              "\n",
              "  <script>\n",
              "    async function quickchart(key) {\n",
              "      const quickchartButtonEl =\n",
              "        document.querySelector('#' + key + ' button');\n",
              "      quickchartButtonEl.disabled = true;  // To prevent multiple clicks.\n",
              "      quickchartButtonEl.classList.add('colab-df-spinner');\n",
              "      try {\n",
              "        const charts = await google.colab.kernel.invokeFunction(\n",
              "            'suggestCharts', [key], {});\n",
              "      } catch (error) {\n",
              "        console.error('Error during call to suggestCharts:', error);\n",
              "      }\n",
              "      quickchartButtonEl.classList.remove('colab-df-spinner');\n",
              "      quickchartButtonEl.classList.add('colab-df-quickchart-complete');\n",
              "    }\n",
              "    (() => {\n",
              "      let quickchartButtonEl =\n",
              "        document.querySelector('#df-9548fac4-cfc2-4155-825d-b99914f156a6 button');\n",
              "      quickchartButtonEl.style.display =\n",
              "        google.colab.kernel.accessAllowed ? 'block' : 'none';\n",
              "    })();\n",
              "  </script>\n",
              "</div>\n",
              "    </div>\n",
              "  </div>\n"
            ]
          },
          "metadata": {},
          "execution_count": 8
        }
      ],
      "source": [
        "# average consumption per region\n",
        "df[[\"region\", \"consumption\"]].groupby(\"region\").mean().astype(int)"
      ],
      "id": "2e2704da"
    },
    {
      "cell_type": "code",
      "execution_count": 9,
      "metadata": {
        "id": "3ed15bbc",
        "colab": {
          "base_uri": "https://localhost:8080/"
        },
        "outputId": "1dae81a3-49e0-4b08-937c-58b8f652ec95"
      },
      "outputs": [
        {
          "output_type": "execute_result",
          "data": {
            "text/plain": [
              "consumption    53582\n",
              "dtype: int64"
            ]
          },
          "metadata": {},
          "execution_count": 9
        }
      ],
      "source": [
        "# average consumption in France (MW)\n",
        "df[[\"region\", \"consumption\"]].groupby(\"region\").mean().sum().astype(int)"
      ],
      "id": "3ed15bbc"
    },
    {
      "cell_type": "code",
      "execution_count": 10,
      "metadata": {
        "id": "2ebdd086"
      },
      "outputs": [],
      "source": [
        "# selection of a region\n",
        "region = \"Bretagne\"\n",
        "df_region = df[df.region == region]"
      ],
      "id": "2ebdd086"
    },
    {
      "cell_type": "code",
      "execution_count": 11,
      "metadata": {
        "id": "bbb87de5",
        "colab": {
          "base_uri": "https://localhost:8080/",
          "height": 472
        },
        "outputId": "df4adfbb-6885-4f99-9744-dc5f38da4516"
      },
      "outputs": [
        {
          "output_type": "display_data",
          "data": {
            "text/plain": [
              "<Figure size 640x480 with 1 Axes>"
            ],
            "image/png": "[encoded data removed]"
          },
          "metadata": {}
        }
      ],
      "source": [
        "# density (with kde = kernel density estimation)\n",
        "sns.kdeplot(data=df_region, x=\"consumption\", label=\"Data\", color='blue', fill=True)\n",
        "plt.title(region)\n",
        "plt.xlabel(\"Consumption (MW)\")\n",
        "plt.legend()\n",
        "plt.show()"
      ],
      "id": "bbb87de5"
    },
    {
      "cell_type": "markdown",
      "metadata": {
        "id": "045ae627"
      },
      "source": [
        "## A. Parameter estimation"
      ],
      "id": "045ae627"
    },
    {
      "cell_type": "markdown",
      "metadata": {
        "id": "99972e6a"
      },
      "source": [
        "In all the project, the daily power consumptions are assumed to be i.i.d., with a Gaussian distribution.\n",
        "\n",
        "We use the following estimators for the mean and the variance, given $n$ observations $x_1,\\ldots,x_n$:\n",
        "$$\n",
        "\\hat \\mu = \\frac 1 n \\sum_{i=1}^n x_i\\quad \\hat{\\sigma^2} = \\frac 1 {n-1}\\sum_{i=1}^n (x_i - \\hat \\mu)^2\n",
        "$$\n",
        "The corresponding estimate of the standard deviation is:\n",
        "$$\n",
        "\\hat \\sigma = \\sqrt{\\hat{\\sigma^2}}\n",
        "$$\n",
        "\n",
        "Consider the region Bretagne.\n",
        "\n",
        "1. Show that the estimators for the mean and the variance are unbiased."
      ],
      "id": "99972e6a"
    },
    {
      "cell_type": "markdown",
      "metadata": {
        "id": "fc43c835"
      },
      "source": [
        "Your answer:"
      ],
      "id": "fc43c835"
    },
    {
      "cell_type": "markdown",
      "source": [
        "For the mean:\n",
        "$$\n",
        "E(\\hat \\mu) = E(\\frac 1 n \\sum_{i=1}^n x_i\\quad)\n",
        "$$\n",
        "$$\n",
        "E(\\hat \\mu) = \\frac 1 n E( \\sum_{i=1}^n x_i\\quad)\n",
        "$$\n",
        "Having:\n",
        "$$\n",
        "E(x_i\\quad) = \\mu  \n",
        "$$\n",
        "The expectation is linear:\n",
        "$$\n",
        "E(\\hat \\mu) = \\frac 1 n n \\mu\n",
        "$$\n",
        "$$\n",
        "E(\\hat \\mu) = \\mu\n",
        "$$\n",
        "Thus this estimator of the mean is unbiased."
      ],
      "metadata": {
        "id": "Xl12xBG8ttak"
      },
      "id": "Xl12xBG8ttak"
    },
    {
      "cell_type": "markdown",
      "source": [
        "For the variance:\n",
        "$$\n",
        "E(\\hat{\\sigma^2}) = E(\\frac 1 {n-1}\\sum_{i=1}^n (x_i - \\hat \\mu)^2)\n",
        "$$\n",
        "\n",
        "$$\n",
        "E(\\hat{\\sigma^2}) = \\frac 1 {n-1} E(\\sum_{i=1}^n (x_i - \\hat \\mu)^2)\n",
        "$$\n",
        "\n",
        "$$\n",
        "E(\\hat{\\sigma^2}) = \\frac 1 {n-1} E(\\sum_{i=1}^n (x_i ^2  + \\hat \\mu ^2 - 2 x_i \\hat \\mu))\n",
        "$$\n",
        "\n",
        "$$\n",
        "E(\\hat{\\sigma^2}) = \\frac 1 {n-1} E((\\sum_{i=1}^n x_i ^2)  + \\sum_{i=1}^n(\\hat \\mu ^2) - 2\\sum_{i=1}^n( x_i \\hat \\mu))\n",
        "$$\n",
        "\n",
        "$$\n",
        "E(\\hat{\\sigma^2}) = \\frac 1 {n-1} E((\\sum_{i=1}^n x_i ^2)  + n\\hat \\mu ^2 - 2 \\hat \\mu \\sum_{i=1}^n( x_i))\n",
        "$$\n",
        "Using the definition of sample mean:\n",
        "$$\n",
        "E(\\hat{\\sigma^2}) = \\frac 1 {n-1} E((\\sum_{i=1}^n x_i ^2)  + n\\hat \\mu ^2 - 2 n \\hat \\mu ^2)\n",
        "$$\n",
        "$$\n",
        "E(\\hat{\\sigma^2}) = \\frac 1 {n-1} E((\\sum_{i=1}^n x_i ^2)  - n \\hat \\mu ^2)\n",
        "$$\n",
        "$$\n",
        "E(\\hat{\\sigma^2}) = \\frac 1 {n-1} (\\sum_{i=1}^n E(x_i ^2)  - n E(\\hat \\mu ^2))\n",
        "$$\n",
        "Using the definition of variance:\n",
        "\n",
        "$\n",
        "E(x_i ^2) =   \\sigma ^2 + \\mu ^2\n",
        "$ and $E(\\hat \\mu ^2) = var(\\hat \\mu) + E(\\hat \\mu)^2 = \\frac 1 {n^2} var(\\sum_{i=1}^n x_i ) + \\mu^2 = \\frac 1 {n^2} n \\sigma^2 + \\mu^2    $\n",
        "$$\n",
        "E(\\hat{\\sigma^2}) = \\frac 1 {n-1} (n ( \\sigma ^2 + \\mu ^2)  - n ( \\sigma ^2 \\frac 1 {n}  + \\mu ^2)\n",
        "$$\n",
        "\n",
        "$$\n",
        "E(\\hat{\\sigma^2}) = \\frac 1 {n-1} ( (n - 1) \\sigma ^2) = \\sigma ^2\n",
        "$$\n",
        "\n",
        "Thus this estimator of variance is unbiased."
      ],
      "metadata": {
        "id": "ktpemabKvURN"
      },
      "id": "ktpemabKvURN"
    },
    {
      "cell_type": "markdown",
      "metadata": {
        "id": "259c0fed"
      },
      "source": [
        "2. Give the values obtained for the mean and the standard deviation using these estimators."
      ],
      "id": "259c0fed"
    },
    {
      "cell_type": "code",
      "execution_count": 12,
      "metadata": {
        "colab": {
          "base_uri": "https://localhost:8080/"
        },
        "id": "d51c8554",
        "outputId": "9a1a2d21-239e-4cc7-84c1-2f8c1c4d47ff"
      },
      "outputs": [
        {
          "output_type": "stream",
          "name": "stdout",
          "text": [
            "mean =  2546.536155666579 sd =  604.9429842099305\n"
          ]
        }
      ],
      "source": [
        "#calculating the mean and standard deviation using the formula of part 1\n",
        "consump_list_a = df_region['consumption'].tolist()\n",
        "\n",
        "mean_a = sum(consump_list_a) / len(consump_list_a)\n",
        "\n",
        "n_a = len(consump_list_a)\n",
        "\n",
        "consump_list_a = [x - mean_a for x in consump_list_a]\n",
        "consump_list_a = [x ** 2 for x in consump_list_a]\n",
        "\n",
        "variance_a = sum(consump_list_a) / (len(consump_list_a) - 1)\n",
        "\n",
        "sd_a = np.sqrt(variance_a)\n",
        "\n",
        "print(\"mean = \", mean_a, \"sd = \", sd_a)"
      ],
      "id": "d51c8554"
    },
    {
      "cell_type": "markdown",
      "metadata": {
        "id": "d0c9e4bf"
      },
      "source": [
        "3. Generate new data using the corresponding Gaussian model, with the same number of samples."
      ],
      "id": "d0c9e4bf"
    },
    {
      "cell_type": "code",
      "execution_count": 13,
      "metadata": {
        "id": "baedf3c5"
      },
      "outputs": [],
      "source": [
        "df_region_generated = np.random.normal(mean_a, sd_a, n_a)"
      ],
      "id": "baedf3c5"
    },
    {
      "cell_type": "markdown",
      "metadata": {
        "id": "87a6506c"
      },
      "source": [
        "4. Plot the *kde* (kernel density estimate) of real data and the *kde* of generated data on the same figure."
      ],
      "id": "87a6506c"
    },
    {
      "cell_type": "code",
      "execution_count": 14,
      "metadata": {
        "colab": {
          "base_uri": "https://localhost:8080/",
          "height": 509
        },
        "id": "4bfd9db4",
        "outputId": "3bdaafaf-1ddb-4a9c-84e9-e843fc841a37"
      },
      "outputs": [
        {
          "output_type": "stream",
          "name": "stderr",
          "text": [
            "WARNING:matplotlib.legend:No artists with labels found to put in legend.  Note that artists whose label start with an underscore are ignored when legend() is called with no argument.\n"
          ]
        },
        {
          "output_type": "display_data",
          "data": {
            "text/plain": [
              "<Figure size 640x480 with 1 Axes>"
            ],
            "image/png": "[encoded data removed]"
          },
          "metadata": {}
        }
      ],
      "source": [
        "sns.kdeplot(data = df_region, color = 'blue', fill = True)\n",
        "sns.kdeplot(data = df_region_generated, color = 'red', fill = True)\n",
        "plt.title(region)\n",
        "plt.xlabel(\"Consumption. (MW)\")\n",
        "plt.legend()\n",
        "plt.show()"
      ],
      "id": "4bfd9db4"
    },
    {
      "cell_type": "markdown",
      "metadata": {
        "id": "fc054c89"
      },
      "source": [
        "5. Do the same for the days corresponding to winter (from December 22 to March 21), after updating the model."
      ],
      "id": "fc054c89"
    },
    {
      "cell_type": "code",
      "execution_count": 15,
      "metadata": {
        "id": "5a67eb62"
      },
      "outputs": [],
      "source": [
        "#define a function to determine the winter days\n",
        "def is_Winter(date):\n",
        "  return date.month in [1,2] or (date.month==12 and date.day in range(22,32)) or (date.month==3 and date.day in range(1,22))\n",
        "\n",
        "df_bretagne = df[df.region==\"Bretagne\"]\n",
        "bretagne = pd.DataFrame(df_bretagne)\n",
        "\n",
        "#changing the column of date to datetime format\n",
        "bretagne['date'] = pd.to_datetime(df['date'])\n",
        "\n",
        "#generating a dataframe of winter days only of Bretagne\n",
        "df_region_winter = df_region[bretagne.apply(lambda row: is_Winter(row['date']) and not pd.isna(row['consumption']), axis = 1)]\n"
      ],
      "id": "5a67eb62"
    },
    {
      "cell_type": "code",
      "source": [
        "#calculating the parameters for winter days of Bretagne\n",
        "consump_list_winter_a = df_region_winter['consumption'].tolist()\n",
        "\n",
        "mean_winter_a = sum(consump_list_winter_a) / len(consump_list_winter_a)\n",
        "n_winter_a = len(consump_list_winter_a)\n",
        "consump_list_winter_a = [x - mean_winter_a for x in consump_list_winter_a]\n",
        "consump_list_winter_a = [x ** 2 for x in consump_list_winter_a]\n",
        "variance_winter_a = sum(consump_list_winter_a) / (len(consump_list_winter_a) - 1)\n",
        "\n",
        "sd_winter_a = np.sqrt(variance_winter_a)\n",
        "\n",
        "print(\"mean = \", mean_winter_a ,\"sd = \", sd_winter_a)"
      ],
      "metadata": {
        "colab": {
          "base_uri": "https://localhost:8080/"
        },
        "id": "q09GlOFH8eO4",
        "outputId": "926851a1-8097-489e-91d4-014264115d06"
      },
      "id": "q09GlOFH8eO4",
      "execution_count": 16,
      "outputs": [
        {
          "output_type": "stream",
          "name": "stdout",
          "text": [
            "mean =  3214.1782077393077 sd =  409.4763740819989\n"
          ]
        }
      ]
    },
    {
      "cell_type": "code",
      "execution_count": 17,
      "metadata": {
        "id": "X6dpsPTJAm-y"
      },
      "outputs": [],
      "source": [
        "df_region_generated_winter = np.random.normal(mean_winter_a, sd_winter_a, n_winter_a)"
      ],
      "id": "X6dpsPTJAm-y"
    },
    {
      "cell_type": "code",
      "execution_count": 18,
      "metadata": {
        "colab": {
          "base_uri": "https://localhost:8080/",
          "height": 509
        },
        "id": "PIL678dgAx0R",
        "outputId": "7ce2555b-252c-4b10-b4e1-6d1f2ac9dd03"
      },
      "outputs": [
        {
          "output_type": "stream",
          "name": "stderr",
          "text": [
            "WARNING:matplotlib.legend:No artists with labels found to put in legend.  Note that artists whose label start with an underscore are ignored when legend() is called with no argument.\n"
          ]
        },
        {
          "output_type": "display_data",
          "data": {
            "text/plain": [
              "<Figure size 640x480 with 1 Axes>"
            ],
            "image/png": "[encoded data removed]"
          },
          "metadata": {}
        }
      ],
      "source": [
        "sns.kdeplot(data = df_region_winter, color = 'blue', fill = True)\n",
        "sns.kdeplot(data = df_region_generated_winter, color = 'red', fill = True)\n",
        "plt.title(region)\n",
        "plt.xlabel(\"Consumption. (MW)\")\n",
        "plt.legend()\n",
        "plt.show()"
      ],
      "id": "PIL678dgAx0R"
    },
    {
      "cell_type": "markdown",
      "metadata": {
        "id": "2c341977"
      },
      "source": [
        "6. In which case the Gaussian model seems more appropriate?"
      ],
      "id": "2c341977"
    },
    {
      "cell_type": "markdown",
      "source": [
        "It is clear that the model seems more appropriate in the second case, when considering only the winter days."
      ],
      "metadata": {
        "id": "wTFkOvMIkDfR"
      },
      "id": "wTFkOvMIkDfR"
    },
    {
      "cell_type": "markdown",
      "metadata": {
        "id": "3b396ff6"
      },
      "source": [
        "## B. Goodness of fit"
      ],
      "id": "3b396ff6"
    },
    {
      "cell_type": "markdown",
      "metadata": {
        "id": "b5d39610"
      },
      "source": [
        "We would like to confirm and quantify the observation of part A.\n",
        "\n",
        "We propose the following metric to measure the dissimilarity between two pdf $f$ and $g$ (with respect to the Lebesgue measure):\n",
        "$$\n",
        "d(f, g) = \\frac 1 2 \\int |f(x) - g(x)| \\mathrm dx.\n",
        "$$"
      ],
      "id": "b5d39610"
    },
    {
      "cell_type": "markdown",
      "metadata": {
        "id": "87b5684d"
      },
      "source": [
        "1. Show that $d(f,g) \\in [0,1]$, with $d(f,g)=0$ if and only if $f=g$ almost everywhere (for the Lebesgue measure) and $d(f,g)=1$ if and only if $f$ and $g$ have disjoint supports."
      ],
      "id": "87b5684d"
    },
    {
      "cell_type": "markdown",
      "metadata": {
        "id": "397f4544"
      },
      "source": [
        "Your answer:"
      ],
      "id": "397f4544"
    },
    {
      "cell_type": "markdown",
      "source": [
        "-Proof of $d(f,g) \\in [0,1]$:\n",
        "The absolute value is always greater than or equal to zero:\n",
        "$$\n",
        "|f(x) - g(x)|  >= 0\n",
        "$$\n",
        "Then:\n",
        "$$\n",
        "d(f, g) = \\frac 1 2 \\int |f(x) - g(x)| \\mathrm dx >= 0\n",
        "$$\n",
        "\n",
        "$$\n",
        "|f(x) - g(x)| = |f(x) + (-g(x))| <= |f(x)| + |g(x)|\n",
        "$$\n",
        "\n",
        "$$\n",
        "\\frac 1 2 \\int |f(x) - g(x)| \\mathrm dx <= \\frac 1 2 \\int|f(x)| \\mathrm dx + \\frac 1 2 \\int|g(x)| \\mathrm dx  \n",
        "$$\n",
        "But:\n",
        "$$\n",
        "\\int |f(x)| \\mathrm dx = 1\n",
        "$$\n",
        "and\n",
        "$$\n",
        " \\int |g(x)| \\mathrm dx = 1\n",
        "$$\n",
        "Thus, $$d(f,g) <=1$$\n"
      ],
      "metadata": {
        "id": "E3lj6I5z_6fZ"
      },
      "id": "E3lj6I5z_6fZ"
    },
    {
      "cell_type": "markdown",
      "source": [
        "-Proof of d(f,g) = 0 iff f = g almost everywhere:\n",
        "\n",
        "First, assume that d(f,g) = 0, then;\n",
        "$$\n",
        "\\frac 1 2 \\int |f(x) - g(x)| \\mathrm dx = 0\n",
        "$$\n",
        "so, f(x) = g(x) almost everywhere.\n",
        "\n",
        "Then, assume that f = g everywhere, then;\n",
        "$$\n",
        "\\frac 1 2 \\int |f(x) - g(x)| \\mathrm dx = 0\n",
        "$$\n",
        "Thus, d(f,g) = 0\n",
        "\n"
      ],
      "metadata": {
        "id": "gLVpaj9lDjn0"
      },
      "id": "gLVpaj9lDjn0"
    },
    {
      "cell_type": "markdown",
      "source": [
        "-Proof of d(f,g)=1  if and only if f and g have disjoint supports:\n",
        "\n",
        "First assume that d(f,g) = 1:\n",
        "$$\n",
        "\\int |f(x) - g(x)| \\mathrm dx = 2\n",
        "$$\n",
        "\n",
        "Since the integral is over all x, it means that there exists at least one point or interval where ∣f(x)−g(x)∣ is not zero,so f(x) does not equal g(x) at that point or interval.\n",
        "\n",
        "Then assume hat f and g have disjoint supports:\n",
        "\n",
        "This means that there is no overlap between the regions where\n",
        "f and g are non-zero. So:\n",
        "\n",
        "Since their supports are disjoint, ∣f(x)−g(x)∣=1 almost everywhere in the region where they don't overlap, and 0 elsewhere.\n",
        "\n",
        "Thus, the integral of |f(x) - g(x)| over this region is 1.\n",
        "Thus, d(f,g) = 1"
      ],
      "metadata": {
        "id": "NXNP98RsFEOn"
      },
      "id": "NXNP98RsFEOn"
    },
    {
      "cell_type": "markdown",
      "metadata": {
        "id": "ae7d158a"
      },
      "source": [
        "2. For the region Bretagne, compute the dissimilarity between the *kde* of real data and the density of the Gaussian model."
      ],
      "id": "ae7d158a"
    },
    {
      "cell_type": "code",
      "execution_count": 19,
      "metadata": {
        "id": "43801814",
        "colab": {
          "base_uri": "https://localhost:8080/"
        },
        "outputId": "9bc45edb-fcbc-41c1-9491-5bb0dda0bf5f"
      },
      "outputs": [
        {
          "output_type": "stream",
          "name": "stdout",
          "text": [
            "0.1617828808080711\n"
          ]
        }
      ],
      "source": [
        "#df_region\n",
        "\n",
        "consumption_data = df_region['consumption'].to_numpy()\n",
        "\n",
        "kde = gaussian_kde(consumption_data)\n",
        "\n",
        "x = np.linspace(min(consumption_data), max(consumption_data), n_a)\n",
        "#the values of the KDE and Gaussian distribution at each point\n",
        "\n",
        "kde_values = kde(x)\n",
        "gaussian_values = norm.pdf(x, loc=mean_a, scale= sd_a)\n",
        "\n",
        "differences = np.abs(kde_values - gaussian_values)\n",
        "\n",
        "#integrating using trapezoidal rule\n",
        "dissimilarity = 0.5 * np.trapz(differences, x)\n",
        "\n",
        "print(dissimilarity)"
      ],
      "id": "43801814"
    },
    {
      "cell_type": "markdown",
      "metadata": {
        "id": "f8817106"
      },
      "source": [
        "3. Do the same for the region Bretagne in winter and check your conclusion of part A."
      ],
      "id": "f8817106"
    },
    {
      "cell_type": "code",
      "execution_count": 20,
      "metadata": {
        "id": "7b15a902",
        "colab": {
          "base_uri": "https://localhost:8080/"
        },
        "outputId": "28b864f6-6352-4a46-f1be-9eba443a0360"
      },
      "outputs": [
        {
          "output_type": "stream",
          "name": "stdout",
          "text": [
            "0.029456040155400105\n"
          ]
        }
      ],
      "source": [
        "#df_region_winter\n",
        "\n",
        "consumption_data_winter = df_region_winter['consumption'].values\n",
        "kde_winter = gaussian_kde(consumption_data_winter)\n",
        "\n",
        "x_winter = np.linspace(min(consumption_data_winter), max(consumption_data_winter), n_winter_a)\n",
        "\n",
        "kde_values_winter = kde_winter(x_winter)\n",
        "\n",
        "gaussian_values_winter = norm.pdf(x_winter, loc=mean_winter_a, scale= sd_winter_a)\n",
        "\n",
        "differences_winter = np.abs(kde_values_winter - gaussian_values_winter)\n",
        "dissimilarity_winter = 0.5 * np.trapz(differences_winter, x_winter)\n",
        "\n",
        "print(dissimilarity_winter)"
      ],
      "id": "7b15a902"
    },
    {
      "cell_type": "markdown",
      "source": [
        "It is clear that the dissimilarity in winter is lower, and this exactly matches the results of part A, when considering only winter, the winter data and gaussian model are more similar."
      ],
      "metadata": {
        "id": "ffQFSzgKJVZz"
      },
      "id": "ffQFSzgKJVZz"
    },
    {
      "cell_type": "markdown",
      "metadata": {
        "id": "7d78fec0"
      },
      "source": [
        "4. Do the same for all regions. Give the result as a single dataframe."
      ],
      "id": "7d78fec0"
    },
    {
      "cell_type": "code",
      "execution_count": 21,
      "metadata": {
        "id": "fef07b23",
        "colab": {
          "base_uri": "https://localhost:8080/"
        },
        "outputId": "104f690b-2b2a-4109-a66e-50e7160b4e62"
      },
      "outputs": [
        {
          "output_type": "stream",
          "name": "stdout",
          "text": [
            "                        region  dissimilarity\n",
            "0         Auvergne-Rhône-Alpes       0.152976\n",
            "1      Bourgogne-Franche-Comté       0.119683\n",
            "2                     Bretagne       0.161783\n",
            "3          Centre-Val de Loire       0.172764\n",
            "4                    Grand Est       0.107346\n",
            "5              Hauts-de-France       0.119946\n",
            "6                    Normandie       0.172445\n",
            "7           Nouvelle-Aquitaine       0.195011\n",
            "8                    Occitanie       0.198910\n",
            "9             Pays de la Loire       0.152960\n",
            "10  Provence-Alpes-Côte d'Azur       0.213296\n",
            "11               Île-de-France       0.156695\n"
          ]
        }
      ],
      "source": [
        "#dissimilarity dataframe for all regions in all days\n",
        "#for loop to iterate over all regions\n",
        "all_regions_result = []\n",
        "for i in regions:\n",
        "    region_data_temp = df[df['region'] == i]\n",
        "    consumption_data_temp = region_data_temp['consumption'].to_numpy()\n",
        "    n_temp = region_data_temp['consumption'].count()\n",
        "    mean_temp = region_data_temp['consumption'].mean()\n",
        "    sd_temp = region_data_temp['consumption'].std()\n",
        "    kde_temp = gaussian_kde(consumption_data_temp)\n",
        "    x_temp = np.linspace(min(consumption_data_temp), max(consumption_data_temp), n_temp)\n",
        "    kde_values_temp = kde_temp(x_temp)\n",
        "    gaussian_values_temp = norm.pdf(x_temp, loc=mean_temp, scale= sd_temp)\n",
        "    differences_temp = np.abs(kde_values_temp - gaussian_values_temp)\n",
        "    dissimilarity_temp = 0.5 * np.trapz(differences_temp, x_temp)\n",
        "    all_regions_result.append({'region': i, 'dissimilarity': dissimilarity_temp})\n",
        "\n",
        "result_df_temp = pd.DataFrame(all_regions_result)\n",
        "print(result_df_temp)\n"
      ],
      "id": "fef07b23"
    },
    {
      "cell_type": "code",
      "source": [
        "#dissimilarity dataframe for all regions in only winter days\n",
        "all_regions_result_winter = []\n",
        "\n",
        "for i in regions:\n",
        "    region_x_temp = df[df['region'] == i]\n",
        "    x_region = pd.DataFrame(region_x_temp)\n",
        "    x_region['date'] = pd.to_datetime(df['date'])\n",
        "    region_data_temp_winter = region_x_temp[x_region.apply(lambda row: is_Winter(row['date']) and not pd.isna(row['consumption']), axis = 1)]\n",
        "    consumption_data_temp_winter = region_data_temp_winter['consumption'].to_numpy()\n",
        "    n_temp_winter = region_data_temp_winter['consumption'].count()\n",
        "    mean_temp_winter = region_data_temp_winter['consumption'].mean()\n",
        "    sd_temp_winter = region_data_temp_winter['consumption'].std()\n",
        "    kde_temp_winter = gaussian_kde(consumption_data_temp_winter)\n",
        "    x_temp_winter = np.linspace(min(consumption_data_temp_winter), max(consumption_data_temp_winter), n_temp_winter)\n",
        "    kde_values_temp_winter = kde_temp_winter(x_temp_winter)\n",
        "    gaussian_values_temp_winter = norm.pdf(x_temp_winter, loc=mean_temp_winter, scale= sd_temp_winter)\n",
        "    differences_temp_winter = np.abs(kde_values_temp_winter - gaussian_values_temp_winter)\n",
        "    dissimilarity_temp_winter = 0.5 * np.trapz(differences_temp_winter, x_temp_winter)\n",
        "    all_regions_result_winter.append({'region': i, 'dissimilarity': dissimilarity_temp_winter})\n",
        "\n",
        "result_df_temp_winter = pd.DataFrame(all_regions_result_winter)\n",
        "print(result_df_temp_winter)"
      ],
      "metadata": {
        "colab": {
          "base_uri": "https://localhost:8080/"
        },
        "id": "I1sQrJ6xML-H",
        "outputId": "1546fbae-b804-4769-d84f-686b3509c8d9"
      },
      "id": "I1sQrJ6xML-H",
      "execution_count": 22,
      "outputs": [
        {
          "output_type": "stream",
          "name": "stdout",
          "text": [
            "                        region  dissimilarity\n",
            "0         Auvergne-Rhône-Alpes       0.037066\n",
            "1      Bourgogne-Franche-Comté       0.036725\n",
            "2                     Bretagne       0.029456\n",
            "3          Centre-Val de Loire       0.042221\n",
            "4                    Grand Est       0.037367\n",
            "5              Hauts-de-France       0.026283\n",
            "6                    Normandie       0.041308\n",
            "7           Nouvelle-Aquitaine       0.052095\n",
            "8                    Occitanie       0.059805\n",
            "9             Pays de la Loire       0.036723\n",
            "10  Provence-Alpes-Côte d'Azur       0.034007\n",
            "11               Île-de-France       0.049812\n"
          ]
        }
      ]
    },
    {
      "cell_type": "markdown",
      "metadata": {
        "id": "3f0d3f61"
      },
      "source": [
        "5. Which region is best fitted by a Gaussian model in winter?"
      ],
      "id": "3f0d3f61"
    },
    {
      "cell_type": "code",
      "execution_count": 23,
      "metadata": {
        "id": "251b89b1",
        "colab": {
          "base_uri": "https://localhost:8080/"
        },
        "outputId": "a2c78118-bca9-466a-b744-a60d3aac59d9"
      },
      "outputs": [
        {
          "output_type": "stream",
          "name": "stdout",
          "text": [
            "Hauts-de-France is the best fitted by a Gaussian model in winter.\n"
          ]
        }
      ],
      "source": [
        "#region is best fitted by a Gaussian model is the region having the minimum dissimilarity\n",
        "\n",
        "min_dissimilarity_index = result_df_temp_winter['dissimilarity'].idxmin()\n",
        "region_with_min_dissimilarity_winter = result_df_temp_winter.loc[min_dissimilarity_index, 'region']\n",
        "\n",
        "print(region_with_min_dissimilarity_winter, \"is the best fitted by a Gaussian model in winter.\")"
      ],
      "id": "251b89b1"
    },
    {
      "cell_type": "markdown",
      "metadata": {
        "id": "aff086e4"
      },
      "source": [
        "6. For this region and this season, plot the *kde* of real data and the *kde* of generated data on the same figure, as in part A."
      ],
      "id": "aff086e4"
    },
    {
      "cell_type": "code",
      "execution_count": 24,
      "metadata": {
        "id": "d61bb84e",
        "colab": {
          "base_uri": "https://localhost:8080/",
          "height": 509
        },
        "outputId": "9dfd34ee-a7b6-45dd-c439-538ab2de5d2f"
      },
      "outputs": [
        {
          "output_type": "stream",
          "name": "stderr",
          "text": [
            "WARNING:matplotlib.legend:No artists with labels found to put in legend.  Note that artists whose label start with an underscore are ignored when legend() is called with no argument.\n"
          ]
        },
        {
          "output_type": "display_data",
          "data": {
            "text/plain": [
              "<Figure size 640x480 with 1 Axes>"
            ],
            "image/png": "[encoded data removed]"
          },
          "metadata": {}
        }
      ],
      "source": [
        "#finding the dataframe of this region only winter days\n",
        "\n",
        "region_min_diss_df = df[df.region==region_with_min_dissimilarity_winter]\n",
        "region_min_diss = pd.DataFrame(region_min_diss_df)\n",
        "region_min_diss['date'] = pd.to_datetime(df['date'])\n",
        "region_min_diss_winter = region_min_diss_df[region_min_diss.apply(lambda row: is_Winter(row['date']) and not pd.isna(row['consumption']), axis = 1)]\n",
        "\n",
        "#find the parameters of this region\n",
        "mean_part6 = region_min_diss_winter['consumption'].mean()\n",
        "sd_part6 = region_min_diss_winter['consumption'].std()\n",
        "n_part6 = region_min_diss_winter['consumption'].count()\n",
        "\n",
        "region_min_diss_winter_generated = np.random.normal(mean_part6, sd_part6 ,n_part6)\n",
        "\n",
        "sns.kdeplot(data = region_min_diss_winter, color = 'blue', fill = True)\n",
        "sns.kdeplot(data = region_min_diss_winter_generated, color = 'red', fill = True)\n",
        "plt.title(region_with_min_dissimilarity_winter)\n",
        "plt.xlabel(\"Consumption. (MW)\")\n",
        "plt.legend()\n",
        "plt.show()"
      ],
      "id": "d61bb84e"
    },
    {
      "cell_type": "markdown",
      "metadata": {
        "id": "838fb2d1"
      },
      "source": [
        "## C. Bayesian statistics"
      ],
      "id": "838fb2d1"
    },
    {
      "cell_type": "markdown",
      "metadata": {
        "id": "92daddb8"
      },
      "source": [
        "We would like to include prior knowledge on the estimation, using Bayesian statistics.\n",
        "\n",
        "Consider the region Bretagne in winter. We focus on the mean $\\mu$, assuming the standard deviation is known and equal to $\\sigma=400$MW. We assume a Gaussian prior on $\\mu$ with mean $\\mu_0=3500$MW and standard deviation $\\sigma_0=500$MW.\n",
        "\n",
        "1. Give the posterior distribution of $\\mu$, using the parameters $\\sigma$, $\\mu_0$, $\\sigma_0$ and the $n$ observations $x_1,\\ldots,x_n$."
      ],
      "id": "92daddb8"
    },
    {
      "cell_type": "markdown",
      "metadata": {
        "id": "2d66e4b9"
      },
      "source": [
        "Your answer:"
      ],
      "id": "2d66e4b9"
    },
    {
      "cell_type": "markdown",
      "source": [
        "The posterior can be estimated by:\n",
        "$$\n",
        "\\pi( \\mu / x_1, x_2, ..., x_n) = \\pi(\\mu) p(x_1, x_2, ....,x_n/ \\mu)\n",
        "$$\n",
        "Consider the prior distribution on $\\mu$:\n",
        "$$\n",
        "\\pi(\\mu) α exp(- \\frac 1 {2 \\sigma_0 ^2} (\\mu - \\mu_0)^2 )α exp (- \\frac 1 {2 \\sigma_0^2}( \\mu^2 - 2 \\mu \\mu_0))    \n",
        "$$\n",
        "The likelihood for n observations:\n",
        "$$\n",
        "p(x_1, x_2, ....,x_n / \\mu) α exp (- \\frac 1 {2 \\sigma^2} \\sum_{i=1}^n  (x_i - \\mu)^2 ) α  exp (- \\frac 1 {2 \\sigma^2}  (n \\mu^2  - 2 \\mu \\sum_{i=1}^nx_i )\n",
        "$$\n",
        "Then,\n",
        "\n",
        "$$\n",
        "\\pi( \\mu / x_1, x_2, ..., x_n) α exp(- \\frac 1 2(\\mu^2 ( \\frac 1 \\sigma_0^2 + \\frac n \\sigma^2  )-2  \\mu(\\frac {\\mu_0} {\\sigma_0^2} + \\frac{\\sum_{i=1}^nx_i} {\\sigma^2} )))\n",
        "$$\n",
        "\n",
        "Note that: Let X ~ N( $\\mu$, $\\sigma^2$)\n",
        "\n",
        "$$\n",
        "p(X=x) α exp( \\frac {-1} {2 \\sigma^2} (x - \\mu)^2) α \\frac {-1} 2 ( \\frac{x^2} {\\sigma^2} -2 \\frac{x\\mu} {\\sigma^2})\n",
        "$$\n",
        "\n",
        "Therefore, the posterior distrinution follows a nomral law with the following parameters:\n",
        "\n",
        "\n",
        "$\n",
        "mean = \\frac {\\frac {\\mu_0} {\\sigma_0^2} + \\frac{\\sum_{i=1}^nx_i} {\\sigma^2} } { \\frac 1 {\\sigma_0^2} + \\frac n {\\sigma^2}  }$\n",
        "\n",
        "$variance = \\frac 1 {\\frac 1 {\\sigma_0^2} + \\frac n {\\sigma^2} }$"
      ],
      "metadata": {
        "id": "uPVyYsxOBB2J"
      },
      "id": "uPVyYsxOBB2J"
    },
    {
      "cell_type": "markdown",
      "metadata": {
        "id": "9ce2daad"
      },
      "source": [
        "2. Give the parameters of the posterior distribution obtained for each year from 2013 to 2023, considered independently, in a single dataframe."
      ],
      "id": "9ce2daad"
    },
    {
      "cell_type": "code",
      "execution_count": 25,
      "metadata": {
        "id": "74439986",
        "colab": {
          "base_uri": "https://localhost:8080/"
        },
        "outputId": "79460bec-3927-44a1-b2f7-7da4346e1fb0"
      },
      "outputs": [
        {
          "output_type": "stream",
          "name": "stdout",
          "text": [
            "    year         mean         sd\n",
            "0   2013  3343.413504  42.014582\n",
            "1   2014  3118.424537  42.014582\n",
            "2   2015  3167.398500  42.014582\n",
            "3   2016  3207.507639  41.784716\n",
            "4   2017  3251.224625  42.014582\n",
            "5   2018  3315.081642  42.014582\n",
            "6   2019  3195.200794  42.014582\n",
            "7   2020  3145.504147  41.784716\n",
            "8   2021  3341.946161  42.014582\n",
            "9   2022  3165.081642  42.014582\n",
            "10  2023  3117.547123  44.543540\n"
          ]
        },
        {
          "output_type": "stream",
          "name": "stderr",
          "text": [
            "<ipython-input-25-b7b5c668fa20>:7: SettingWithCopyWarning: \n",
            "A value is trying to be set on a copy of a slice from a DataFrame.\n",
            "Try using .loc[row_indexer,col_indexer] = value instead\n",
            "\n",
            "See the caveats in the documentation: https://pandas.pydata.org/pandas-docs/stable/user_guide/indexing.html#returning-a-view-versus-a-copy\n",
            "  df_region_winter['date'] = pd.to_datetime(df_region_winter['date'])\n",
            "<ipython-input-25-b7b5c668fa20>:8: SettingWithCopyWarning: \n",
            "A value is trying to be set on a copy of a slice from a DataFrame.\n",
            "Try using .loc[row_indexer,col_indexer] = value instead\n",
            "\n",
            "See the caveats in the documentation: https://pandas.pydata.org/pandas-docs/stable/user_guide/indexing.html#returning-a-view-versus-a-copy\n",
            "  df_region_winter['year'] = df_region_winter['date'].dt.year\n"
          ]
        }
      ],
      "source": [
        "sd = 400\n",
        "mean_theta = 3500\n",
        "sd_theta = 500\n",
        "\n",
        "yearly_consumption = pd.DataFrame()\n",
        "\n",
        "df_region_winter['date'] = pd.to_datetime(df_region_winter['date'])\n",
        "df_region_winter['year'] = df_region_winter['date'].dt.year\n",
        "yearly_consumption = df_region_winter.groupby('year')['consumption'].sum().reset_index()\n",
        "\n",
        "#for each year we consider the sum, number of observations\n",
        "\n",
        "sum_list = yearly_consumption['consumption'].tolist()\n",
        "count_df = df_region_winter.groupby(df_region_winter['date'].dt.year).count()\n",
        "count_list = count_df['consumption'].tolist()\n",
        "\n",
        "#creating empty list for each year\n",
        "\n",
        "mean_list = []\n",
        "sd_list = []\n",
        "year_list = [year for year in range(2013, 2024)]\n",
        "\n",
        "#for each year find sigma, mean using each year sum and number of observations\n",
        "\n",
        "for i in range(0,11):\n",
        "  denum_part_c = (1/(sd_theta**2)) + (count_list[i]/(sd**2))\n",
        "  num_part_c = (mean_theta / (sd_theta**2) ) + ((sum_list[i])/(sd**2))\n",
        "\n",
        "  mean_temp = num_part_c / denum_part_c\n",
        "\n",
        "  mean_list.append(mean_temp)\n",
        "\n",
        "  sd_temp = 1 / np.sqrt(denum_part_c)\n",
        "  sd_list.append(sd_temp)\n",
        "#merge these three lists in a single dataframe\n",
        "\n",
        "posterior_parameters_year_year = pd.DataFrame({'year': year_list, 'mean': mean_list, 'sd': sd_list})\n",
        "print(posterior_parameters_year_year)"
      ],
      "id": "74439986"
    },
    {
      "cell_type": "markdown",
      "metadata": {
        "id": "34e7e53f"
      },
      "source": [
        "3. Plot the density of the posterior distribution in 2023 and the *kde* of real data in 2023 on the same plot."
      ],
      "id": "34e7e53f"
    },
    {
      "cell_type": "code",
      "execution_count": 26,
      "metadata": {
        "id": "eb02344e",
        "colab": {
          "base_uri": "https://localhost:8080/",
          "height": 521
        },
        "outputId": "81884401-a4d8-4020-94b3-c63f7d2176b6"
      },
      "outputs": [
        {
          "output_type": "stream",
          "name": "stderr",
          "text": [
            "<ipython-input-26-9239612b5235>:3: UserWarning: Dataset has 0 variance; skipping density estimate. Pass `warn_singular=False` to disable this warning.\n",
            "  sns.kdeplot(data = real_distribution, color = 'blue', fill = True)\n",
            "WARNING:matplotlib.legend:No artists with labels found to put in legend.  Note that artists whose label start with an underscore are ignored when legend() is called with no argument.\n"
          ]
        },
        {
          "output_type": "display_data",
          "data": {
            "text/plain": [
              "<Figure size 640x480 with 1 Axes>"
            ],
            "image/png": "[encoded data removed]"
          },
          "metadata": {}
        }
      ],
      "source": [
        "real_distribution = df_region_winter[df_region_winter['date'].dt.year == 2023]\n",
        "posterior_distribution = np.random.normal(mean_list[10],sd_list[10],count_list[10])\n",
        "sns.kdeplot(data = real_distribution, color = 'blue', fill = True)\n",
        "sns.kdeplot(data = posterior_distribution, color = 'red', fill = True)\n",
        "plt.xlabel(\"Consumption. (MW)\")\n",
        "plt.legend()\n",
        "plt.show()"
      ],
      "id": "eb02344e"
    },
    {
      "cell_type": "markdown",
      "metadata": {
        "id": "34f2f990"
      },
      "source": [
        "4. Discuss the results, comparing to those obtained in part A."
      ],
      "id": "34f2f990"
    },
    {
      "cell_type": "markdown",
      "metadata": {
        "id": "b636cd1b"
      },
      "source": [
        "Your answer:"
      ],
      "id": "b636cd1b"
    },
    {
      "cell_type": "markdown",
      "source": [
        "It is clear now that the model seems more appropriate than part A, when considering only the winter days and only 2023. The Gaussian model is acheived, by reducing some samples make the standard deviation smaller."
      ],
      "metadata": {
        "id": "XwN8rhmCn3Uu"
      },
      "id": "XwN8rhmCn3Uu"
    },
    {
      "cell_type": "markdown",
      "metadata": {
        "id": "fbb2395b"
      },
      "source": [
        "## D. Hypothesis testing"
      ],
      "id": "fbb2395b"
    },
    {
      "cell_type": "markdown",
      "metadata": {
        "id": "9829b730"
      },
      "source": [
        "Consider the region Bretagne. While the standard deviation is equal to 400MW in winter, you would like to test the hypothesis that it was 500MW in 2023. The mean is supposed to be known and equal to 3200MW.\n",
        "1. Propose a statistical test at level $\\alpha$."
      ],
      "id": "9829b730"
    },
    {
      "cell_type": "markdown",
      "metadata": {
        "id": "eabddc9c"
      },
      "source": [
        "Your answer:"
      ],
      "id": "eabddc9c"
    },
    {
      "cell_type": "markdown",
      "source": [
        "$H_0$ : {$\\sigma_0$ = 400}\n",
        "\n",
        "$H_1$ : {$\\sigma_1$ = 500}\n",
        "\n",
        "The test $δ(x) = 1_{{\\frac {p1(x)} {p0(x)}} >c}$ is UMP, for any c > 0.\n",
        "\n",
        "Given that ${\\frac {p1(x)} {p0(x)}}$ is the likelihood ratio.\n",
        "\n",
        "$$\n",
        "p_1(x) = \\prod_{i=1}^n (\\frac 1  {\\sqrt{2 \\pi \\sigma_1^2}} exp(- \\frac 1 {2 \\sigma_1 ^2} (x - \\mu)^2 )\n",
        "$$\n",
        "\n",
        "$$\n",
        "p_0(x) = \\prod_{i=1}^n (\\frac 1  {\\sqrt{2 \\pi \\sigma_0^2}} exp(- \\frac 1 {2 \\sigma_0 ^2} (x - \\mu)^2 )\n",
        "$$\n",
        "\n",
        "$$\n",
        "\\frac {p_1(x)} {p_0(x)} = \\frac {\\prod_{i=1}^n (\\frac 1  {\\sqrt{2 \\pi \\sigma_1^2}} exp(- \\frac 1 {2 \\sigma_1 ^2} (x - \\mu)^2 )}  {\\prod_{i=1}^n (\\frac 1  {\\sqrt{2 \\pi \\sigma_0^2}} exp(- \\frac 1 {2 \\sigma_0 ^2} (x - \\mu)^2 )}\n",
        "$$\n",
        "\n",
        "$$\n",
        "\\frac {p_1(x)} {p_0(x)} = {{\\frac {\\frac 1 {(2\\pi \\sigma_1^2)^{\\frac n 2}}} {\\frac 1 {(2 \\pi \\sigma_0^2)^{\\frac n 2}}}}} \\frac {exp( -\\frac {\\sum_{i=1}^n (x_i - \\mu)^2} {2 \\sigma_1^2})} {exp( -\\frac {\\sum_{i=1}^n (x_i - \\mu)^2} {2 \\sigma_0^2})}\n",
        "$$\n",
        "\n",
        "$$\n",
        "\\frac {p_1(x)} {p_0(x)} = {(\\frac {\\sigma_0^2} {\\sigma_1^2} )^{\\frac n 2} } exp( -({\\sum_{i=1}^n \\frac {(x_i - \\mu )^2} {2} (\\frac 1 {\\sigma_1^2} - \\frac 1 {\\sigma_0^2})}))\n",
        "$$\n",
        "\n",
        "$$\n",
        "(\\frac 1 {\\sigma_1^2} - \\frac 1 {\\sigma_0^2}) < 0\n",
        "$$\n",
        "\n",
        "Then, the likelihood ratio is increasing.\n",
        "\n",
        "We will accept $H_1$ if ${\\frac {p_1(x)} {p_0(x)} > c}$ or equivalently if $\\sum_{i=1}^n(x_i - \\mu)^2 > d$.\n",
        "\n",
        "For determining d we have, $P_{\\theta_0}(\\sum_{i=1}^n(X_i - \\mu)^2 >d) = α $.\n",
        "\n",
        "Note that, $\\sum_{i=1}^n(X_i - \\mu)^2$ follows a Chi-square test with n degrees of freedom.\n"
      ],
      "metadata": {
        "id": "aqyya7vRYffC"
      },
      "id": "aqyya7vRYffC"
    },
    {
      "cell_type": "markdown",
      "metadata": {
        "id": "7d66ab40"
      },
      "source": [
        "2. Provide the result of this test for $\\alpha=1\\%$."
      ],
      "id": "7d66ab40"
    },
    {
      "cell_type": "code",
      "execution_count": 27,
      "metadata": {
        "id": "5e961bfd",
        "colab": {
          "base_uri": "https://localhost:8080/"
        },
        "outputId": "d4ace3dc-96f4-46b2-fab5-2f982616d4f0"
      },
      "outputs": [
        {
          "output_type": "stream",
          "name": "stdout",
          "text": [
            "H1 is accepted, the standard deviation equals 500.\n"
          ]
        }
      ],
      "source": [
        "import scipy.stats as stats\n",
        "\n",
        "mean_part_d = 3200\n",
        "alpha_part_d = 0.01\n",
        "\n",
        "#by considerin the winter of 2023 as dec from 2022 and jan, feb, march from 2023\n",
        "#first find dec days\n",
        "bretagne_winter_dec = df_region_winter[\n",
        "    (df_region_winter['date'].dt.year == 2022) &\n",
        "    (df_region_winter['date'].dt.month == 12) &\n",
        "    (df_region_winter['date'].dt.day.isin(range(22, 31)))\n",
        "]\n",
        "\n",
        "#then find jan, feb, march days\n",
        "bretagne_winter_jan_feb_march = df_region_winter[df_region_winter['date'].dt.year == 2023]\n",
        "\n",
        "#merge the result in a single dataframe\n",
        "bretagne_winter_2023_part_d = pd.concat([bretagne_winter_dec, bretagne_winter_jan_feb_march], axis=0)\n",
        "\n",
        "temp_list_consumption_part_d = bretagne_winter_2023_part_d['consumption'].tolist()\n",
        "\n",
        "#find the constant d using the quantile of Chi-square test\n",
        "constant_d_part_d = stats.chi2.ppf(1 - alpha_part_d, df=len(temp_list_consumption_part_d))\n",
        "\n",
        "#calculating the summation\n",
        "\n",
        "temp_list_consumption_part_d = [x - mean_part_d for x in temp_list_consumption_part_d]\n",
        "temp_list_consumption_part_d = [x **2 for x in temp_list_consumption_part_d]\n",
        "if sum(temp_list_consumption_part_d > constant_d_part_d):\n",
        "  print(\"H1 is accepted, the standard deviation equals 500.\")\n",
        "else:\n",
        "  print(\"H0 is accepted, the standard deviation equals 400.\")\n",
        "\n"
      ],
      "id": "5e961bfd"
    },
    {
      "cell_type": "markdown",
      "metadata": {
        "id": "a59a2a96"
      },
      "source": [
        "## E. Testing independence"
      ],
      "id": "a59a2a96"
    },
    {
      "cell_type": "markdown",
      "metadata": {
        "id": "a71cf918"
      },
      "source": [
        "Consider the power consumption in Bretagne and Provence-Alpes-Côte d'Azur in winter."
      ],
      "id": "a71cf918"
    },
    {
      "cell_type": "markdown",
      "metadata": {
        "id": "a7c78215"
      },
      "source": [
        "1. Visualize the joint distribution of power consumption in these 2 regions using seaborn."
      ],
      "id": "a7c78215"
    },
    {
      "cell_type": "code",
      "execution_count": 28,
      "metadata": {
        "id": "29b4c335"
      },
      "outputs": [],
      "source": [
        "#df_region_winter\n",
        "#df_provence_winter\n",
        "\n",
        "#find the region Provence-Alpes-Côte d'Azur in winter\n",
        "df_region_provence = df[df.region == \"Provence-Alpes-Côte d'Azur\"]\n",
        "provence = pd.DataFrame(df_region_provence)\n",
        "provence['date'] = pd.to_datetime(df['date'])\n",
        "df_provence_winter = df_region_provence[provence.apply(lambda row: is_Winter(row['date']) and not pd.isna(row['consumption']), axis = 1)]\n",
        "\n",
        "df_region_winter = df_region_winter.rename(columns={'consumption': 'consumption_bretagne'})\n",
        "df_provence_winter = df_provence_winter.rename(columns={'consumption': 'consumption_provence'})\n"
      ],
      "id": "29b4c335"
    },
    {
      "cell_type": "code",
      "source": [
        "result_e = pd.concat([df_region_winter, df_provence_winter], axis=1)\n",
        "result_e = result_e[['consumption_bretagne', 'consumption_provence']]\n",
        "\n",
        "sns.jointplot(data=result_e, x='consumption_bretagne', y=\"consumption_provence\", kind='scatter')\n"
      ],
      "metadata": {
        "colab": {
          "base_uri": "https://localhost:8080/",
          "height": 624
        },
        "id": "SRh6JMjv0eLu",
        "outputId": "e5af69a2-4d9d-438c-95e4-bb76f353e3ce"
      },
      "id": "SRh6JMjv0eLu",
      "execution_count": 29,
      "outputs": [
        {
          "output_type": "execute_result",
          "data": {
            "text/plain": [
              "<seaborn.axisgrid.JointGrid at 0x7d39b15eec20>"
            ]
          },
          "metadata": {},
          "execution_count": 29
        },
        {
          "output_type": "display_data",
          "data": {
            "text/plain": [
              "<Figure size 600x600 with 3 Axes>"
            ],
            "image/png": "[encoded data removed]"
          },
          "metadata": {}
        }
      ]
    },
    {
      "cell_type": "markdown",
      "metadata": {
        "id": "a30a20bc"
      },
      "source": [
        "2. Do you think the power consumption in these two regions is independent?"
      ],
      "id": "a30a20bc"
    },
    {
      "cell_type": "markdown",
      "metadata": {
        "id": "bedb9130"
      },
      "source": [
        "Your answer:"
      ],
      "id": "bedb9130"
    },
    {
      "cell_type": "markdown",
      "source": [
        "Yes, the power in theses two regions is independent."
      ],
      "metadata": {
        "id": "SfSXTvDFOuxG"
      },
      "id": "SfSXTvDFOuxG"
    },
    {
      "cell_type": "markdown",
      "metadata": {
        "id": "164f9b1c"
      },
      "source": [
        "3. Propose a chi-2 test for the independence of the power consumption in these two regions at level $\\alpha$."
      ],
      "id": "164f9b1c"
    },
    {
      "cell_type": "markdown",
      "metadata": {
        "id": "f079fecb"
      },
      "source": [
        "Your answer:"
      ],
      "id": "f079fecb"
    },
    {
      "cell_type": "markdown",
      "source": [
        "Consider n i.i.d. observations $(X_1, Y_1), . . . ,(X_n, Y_n)$, each with the same distribution as (X, Y ).\n",
        "\n",
        "We would\n",
        "like to test the independence between X and Y , i.e., we would like to test the null hypothesis $H_0$ = {X ⊥ Y } against $H_1$ = {X ̸⊥ Y }."
      ],
      "metadata": {
        "id": "FkRiJXEU9xId"
      },
      "id": "FkRiJXEU9xId"
    },
    {
      "cell_type": "markdown",
      "source": [
        "We choose two partitions $A_1, . . . , A_K$ and $B_1, . . . , B_L$ of the corresponding value spaces.\n",
        "\n",
        "Let:\n",
        "$$N_{ij} = \\sum_{t=1}^n 1_{{X_t ∈ A_i ; Y_t ∈ B_j}}$$   \n",
        "\n",
        "$$N_{i} = \\sum_{t=1}^n 1_{{X_t ∈ A_i}}$$\n",
        "\n",
        "$$N_{j} = \\sum_{t=1}^n 1_{{Y_t ∈ B_j}}$$\n"
      ],
      "metadata": {
        "id": "4jGllRIC90tH"
      },
      "id": "4jGllRIC90tH"
    },
    {
      "cell_type": "markdown",
      "source": [
        "Let's define the test statistics:\n",
        "$$\n",
        "T(X,Y) = \\sum_{ij} \\frac {(N_{ij} - \\frac {N_i N_j} {n} )^2} {\\frac {N_i N_j} {n}}\n",
        "$$\n",
        "when n → +∞, $T(X,Y) $ ~ $X^2 (K-1)(L-1)$"
      ],
      "metadata": {
        "id": "eIO1PB7gSYMN"
      },
      "id": "eIO1PB7gSYMN"
    },
    {
      "cell_type": "markdown",
      "source": [
        "The test is then:\n",
        "δ(x, y) = $1_{T(x,y)>c}$\n",
        "\n",
        "The independence is rejected whenever $T(x, y) > c$."
      ],
      "metadata": {
        "id": "4UZE7pV5-Ml8"
      },
      "id": "4UZE7pV5-Ml8"
    },
    {
      "cell_type": "markdown",
      "source": [
        " For a test at level α, we have (under the null\n",
        "hypothesis):\n",
        "\n",
        "α = $p_0$(T(X, Y ) > c).\n",
        "\n",
        "For large n, we can take c = Q(1−α) where Q is the quantile function of the $X^2(K-1)(L-1)$ distribution."
      ],
      "metadata": {
        "id": "r5gLmqoa-Zpz"
      },
      "id": "r5gLmqoa-Zpz"
    },
    {
      "cell_type": "markdown",
      "metadata": {
        "id": "50a23229"
      },
      "source": [
        "4. Give the result of this test for $\\alpha=1\\%$."
      ],
      "id": "50a23229"
    },
    {
      "cell_type": "code",
      "execution_count": 30,
      "metadata": {
        "id": "5e744874",
        "colab": {
          "base_uri": "https://localhost:8080/"
        },
        "outputId": "634b2bc3-562e-4505-ec00-c2552fa4de04"
      },
      "outputs": [
        {
          "output_type": "stream",
          "name": "stdout",
          "text": [
            "H0 is accepted, the two regions are independent.\n"
          ]
        }
      ],
      "source": [
        "#then calculate T\n",
        "#comapre T and c and then decision\n",
        "#df_region_winter\n",
        "#df_provence_winter\n",
        "\n",
        "import scipy.stats as stats\n",
        "\n",
        "#calculate the parameters K, L and c\n",
        "k_e = df_region_winter.shape[0]\n",
        "l_e = df_provence_winter.shape[0]\n",
        "c_e = stats.chi2.ppf(1 - 0.01, k_e * l_e)\n",
        "\n",
        "#saving the observations of the two random variables in a list\n",
        "X_d = df_region_winter['consumption_bretagne'].tolist()\n",
        "Y_d = df_provence_winter['consumption_provence'].tolist()\n",
        "\n",
        "#create the joint table and initialize by zero\n",
        "table_e = np.zeros((len(set(X_d)), len(set(Y_d))))\n",
        "\n",
        "#fill the table with the observed frequencies\n",
        "for i in range(len(X_d)):\n",
        "    row_idx = list(set(X_d)).index(X_d[i])\n",
        "    col_idx = list(set(Y_d)).index(Y_d[i])\n",
        "    table_e[row_idx, col_idx] += 1\n",
        "\n",
        "n = len(X_d)\n",
        "test_statistic = 0\n",
        "\n",
        "#calculate Ni and Nj\n",
        "for i in range(table_e.shape[0]):\n",
        "    for j in range(table_e.shape[1]):\n",
        "        Nij = table_e[i, j]\n",
        "        Ni = table_e[i, :].sum()\n",
        "        Nj = table_e[:, j].sum()\n",
        "        #calculating the test statistics\n",
        "        cell_statistic = (Nij - (Ni * Nj / n)) ** 2 / (Ni * Nj)\n",
        "        test_statistic += cell_statistic\n",
        "\n",
        "if test_statistic > c_e:\n",
        "  print(\"H1 is rejected, the two regions are dependent.\")\n",
        "else:\n",
        "  print(\"H0 is accepted, the two regions are independent.\")"
      ],
      "id": "5e744874"
    },
    {
      "cell_type": "markdown",
      "metadata": {
        "id": "339d7f64"
      },
      "source": [
        "## F. Confidence intervals"
      ],
      "id": "339d7f64"
    },
    {
      "cell_type": "markdown",
      "metadata": {
        "id": "1c957e74"
      },
      "source": [
        "Consider the region Bretagne in winter.\n",
        "\n",
        "1. Provide a confidence interval at level $\\alpha=95\\%$ for the mean power consumption."
      ],
      "id": "1c957e74"
    },
    {
      "cell_type": "markdown",
      "source": [
        "$\\bar X $~ N$(\\mu, \\sigma^2)$ then T =  $ \\frac {\\bar X - \\mu} {\\sqrt{\\frac V {(n-1)}}}$  ~ St(n-1),\n",
        " where V is the unbiased estimator of $\\sigma^2$, V = $\\frac 1 {n-1} \\sum_{i=1}^n (X_i - \\bar X)^2 $.\n",
        "\n",
        "\n",
        "$P(−c < T < c) = 1 − α$ , c = Q(1- α/2).\n",
        "\n",
        "IC = $[\\bar X - {\\sqrt{\\frac V {(n-1)}}} c; \\bar X + {\\sqrt{\\frac V {(n-1)}}} c]$"
      ],
      "metadata": {
        "id": "wIKikbP17HaY"
      },
      "id": "wIKikbP17HaY"
    },
    {
      "cell_type": "code",
      "execution_count": 31,
      "metadata": {
        "id": "cd6315e4",
        "colab": {
          "base_uri": "https://localhost:8080/"
        },
        "outputId": "2fe15823-492e-4e15-f564-70ed55d765a3"
      },
      "outputs": [
        {
          "output_type": "stream",
          "name": "stdout",
          "text": [
            "The confidence interval is:\n",
            "[  3188.61108574851 :  3239.7453297301054  ]\n"
          ]
        }
      ],
      "source": [
        "#df_region_winter\n",
        "\n",
        "n_f = df_region_winter.shape[0]\n",
        "degrees_of_freedom_f = n_f - 1\n",
        "alpha_f = 0.05\n",
        "c_f = stats.t.ppf(1 - alpha_f / 2, df=degrees_of_freedom_f)\n",
        "\n",
        "sample_mean_f = df_region_winter['consumption_bretagne'].mean()\n",
        "consumption_list_part_f = df_region_winter['consumption_bretagne'].tolist()\n",
        "consumption_list_part_f = [num - sample_mean_f for num in consumption_list_part_f]\n",
        "consumption_list_part_f = [x**2 for x in consumption_list_part_f]\n",
        "v0_f = sum(consumption_list_part_f) / (len(consumption_list_part_f) -1)\n",
        "\n",
        "lower_bound_f = sample_mean_f - c_f * np.sqrt(v0_f / n_f - 1)\n",
        "upper_bound_f = sample_mean_f + c_f * np.sqrt(v0_f / n_f - 1)\n",
        "\n",
        "print(\"The confidence interval is:\")\n",
        "print(\"[ \", lower_bound_f, \": \", upper_bound_f, \" ]\")\n"
      ],
      "id": "cd6315e4"
    },
    {
      "cell_type": "markdown",
      "metadata": {
        "id": "8490c8fa"
      },
      "source": [
        "2. Give the result of a Student test at level $5\\%$ for the null hypothesis that the mean consumption in 2023 is equal to 3100MW."
      ],
      "id": "8490c8fa"
    },
    {
      "cell_type": "code",
      "execution_count": 32,
      "metadata": {
        "id": "547fb138",
        "colab": {
          "base_uri": "https://localhost:8080/"
        },
        "outputId": "0fb04aa5-e5c9-4bd9-aa6b-8c023422ed52"
      },
      "outputs": [
        {
          "output_type": "stream",
          "name": "stdout",
          "text": [
            "H1 is accepted.\n"
          ]
        }
      ],
      "source": [
        "a_value_f = 3100\n",
        "if lower_bound_f <= a_value_f <= upper_bound_f:\n",
        "  print(\"H0 is accepted.\")\n",
        "else:\n",
        "  print(\"H1 is accepted.\")"
      ],
      "id": "547fb138"
    }
  ],
  "metadata": {
    "colab": {
      "provenance": []
    },
    "kernelspec": {
      "display_name": "Python 3 (ipykernel)",
      "language": "python",
      "name": "python3"
    },
    "language_info": {
      "codemirror_mode": {
        "name": "ipython",
        "version": 3
      },
      "file_extension": ".py",
      "mimetype": "text/x-python",
      "name": "python",
      "nbconvert_exporter": "python",
      "pygments_lexer": "ipython3",
      "version": "3.9.18"
    }
  },
  "nbformat": 4,
  "nbformat_minor": 5
}